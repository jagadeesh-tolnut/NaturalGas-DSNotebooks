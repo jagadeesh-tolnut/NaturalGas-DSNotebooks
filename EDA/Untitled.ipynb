{
 "cells": [
  {
   "cell_type": "code",
   "execution_count": 3,
   "id": "82ac9ae5",
   "metadata": {},
   "outputs": [],
   "source": [
    "#importing libraries\n",
    "from sklearn.datasets import load_boston\n",
    "import pandas as pd\n",
    "import matplotlib.pyplot as plt\n",
    "%matplotlib inline"
   ]
  },
  {
   "cell_type": "code",
   "execution_count": 7,
   "id": "fbb85692",
   "metadata": {},
   "outputs": [],
   "source": [
    "ng_price = pd.read_csv(\"datasets/NaturalGasPrice.csv\")\n",
    "co_price = pd.read_csv(\"datasets/CrudeOilPrice.csv\")\n",
    "ho_price = pd.read_csv(\"datasets/HeatingOilPrice.csv\")\n",
    "ng_production = pd.read_csv(\"datasets/NGProduction.csv\")\n",
    "ng_consumption = pd.read_csv(\"datasets/NGConsumption.csv\")"
   ]
  },
  {
   "cell_type": "code",
   "execution_count": 8,
   "id": "8d4e50f5",
   "metadata": {},
   "outputs": [
    {
     "data": {
      "text/html": [
       "<div>\n",
       "<style scoped>\n",
       "    .dataframe tbody tr th:only-of-type {\n",
       "        vertical-align: middle;\n",
       "    }\n",
       "\n",
       "    .dataframe tbody tr th {\n",
       "        vertical-align: top;\n",
       "    }\n",
       "\n",
       "    .dataframe thead th {\n",
       "        text-align: right;\n",
       "    }\n",
       "</style>\n",
       "<table border=\"1\" class=\"dataframe\">\n",
       "  <thead>\n",
       "    <tr style=\"text-align: right;\">\n",
       "      <th></th>\n",
       "      <th>Date</th>\n",
       "      <th>High</th>\n",
       "      <th>Low</th>\n",
       "      <th>Open</th>\n",
       "      <th>Close</th>\n",
       "      <th>Volume</th>\n",
       "      <th>Adj Close</th>\n",
       "    </tr>\n",
       "  </thead>\n",
       "  <tbody>\n",
       "    <tr>\n",
       "      <th>0</th>\n",
       "      <td>2000-08-30</td>\n",
       "      <td>4.815</td>\n",
       "      <td>4.63</td>\n",
       "      <td>4.65</td>\n",
       "      <td>4.805</td>\n",
       "      <td>34954.0</td>\n",
       "      <td>4.805</td>\n",
       "    </tr>\n",
       "    <tr>\n",
       "      <th>1</th>\n",
       "      <td>2000-08-31</td>\n",
       "      <td>4.870</td>\n",
       "      <td>4.74</td>\n",
       "      <td>4.82</td>\n",
       "      <td>4.780</td>\n",
       "      <td>25787.0</td>\n",
       "      <td>4.780</td>\n",
       "    </tr>\n",
       "    <tr>\n",
       "      <th>2</th>\n",
       "      <td>2000-09-01</td>\n",
       "      <td>4.860</td>\n",
       "      <td>4.75</td>\n",
       "      <td>4.75</td>\n",
       "      <td>4.835</td>\n",
       "      <td>113.0</td>\n",
       "      <td>4.835</td>\n",
       "    </tr>\n",
       "    <tr>\n",
       "      <th>3</th>\n",
       "      <td>2000-09-05</td>\n",
       "      <td>4.975</td>\n",
       "      <td>4.84</td>\n",
       "      <td>4.85</td>\n",
       "      <td>4.960</td>\n",
       "      <td>26096.0</td>\n",
       "      <td>4.960</td>\n",
       "    </tr>\n",
       "    <tr>\n",
       "      <th>4</th>\n",
       "      <td>2000-09-06</td>\n",
       "      <td>5.110</td>\n",
       "      <td>4.96</td>\n",
       "      <td>4.99</td>\n",
       "      <td>5.065</td>\n",
       "      <td>32764.0</td>\n",
       "      <td>5.065</td>\n",
       "    </tr>\n",
       "  </tbody>\n",
       "</table>\n",
       "</div>"
      ],
      "text/plain": [
       "         Date   High   Low  Open  Close   Volume  Adj Close\n",
       "0  2000-08-30  4.815  4.63  4.65  4.805  34954.0      4.805\n",
       "1  2000-08-31  4.870  4.74  4.82  4.780  25787.0      4.780\n",
       "2  2000-09-01  4.860  4.75  4.75  4.835    113.0      4.835\n",
       "3  2000-09-05  4.975  4.84  4.85  4.960  26096.0      4.960\n",
       "4  2000-09-06  5.110  4.96  4.99  5.065  32764.0      5.065"
      ]
     },
     "execution_count": 8,
     "metadata": {},
     "output_type": "execute_result"
    }
   ],
   "source": [
    "ng_price.head()"
   ]
  },
  {
   "cell_type": "code",
   "execution_count": 22,
   "id": "51820c80",
   "metadata": {},
   "outputs": [
    {
     "data": {
      "text/plain": [
       "'2000-08-30'"
      ]
     },
     "execution_count": 22,
     "metadata": {},
     "output_type": "execute_result"
    }
   ],
   "source": [
    "ng_price[\"Date\"][0]"
   ]
  },
  {
   "cell_type": "code",
   "execution_count": 26,
   "id": "d5e20090",
   "metadata": {},
   "outputs": [
    {
     "data": {
      "text/plain": [
       "array([84])"
      ]
     },
     "execution_count": 26,
     "metadata": {},
     "output_type": "execute_result"
    }
   ],
   "source": [
    "ng_price[ng_price[\"Date\"] == \"2001-01-02\"].index.values"
   ]
  },
  {
   "cell_type": "code",
   "execution_count": 28,
   "id": "cf6e96fe",
   "metadata": {},
   "outputs": [
    {
     "data": {
      "text/plain": [
       "'2000-12-29'"
      ]
     },
     "execution_count": 28,
     "metadata": {},
     "output_type": "execute_result"
    }
   ],
   "source": [
    "ng_price[\"Date\"][83]"
   ]
  },
  {
   "cell_type": "code",
   "execution_count": 9,
   "id": "f7a81224",
   "metadata": {},
   "outputs": [
    {
     "data": {
      "text/html": [
       "<div>\n",
       "<style scoped>\n",
       "    .dataframe tbody tr th:only-of-type {\n",
       "        vertical-align: middle;\n",
       "    }\n",
       "\n",
       "    .dataframe tbody tr th {\n",
       "        vertical-align: top;\n",
       "    }\n",
       "\n",
       "    .dataframe thead th {\n",
       "        text-align: right;\n",
       "    }\n",
       "</style>\n",
       "<table border=\"1\" class=\"dataframe\">\n",
       "  <thead>\n",
       "    <tr style=\"text-align: right;\">\n",
       "      <th></th>\n",
       "      <th>Date</th>\n",
       "      <th>High</th>\n",
       "      <th>Low</th>\n",
       "      <th>Open</th>\n",
       "      <th>Close</th>\n",
       "      <th>Volume</th>\n",
       "      <th>Adj Close</th>\n",
       "    </tr>\n",
       "  </thead>\n",
       "  <tbody>\n",
       "    <tr>\n",
       "      <th>0</th>\n",
       "      <td>2000-08-23</td>\n",
       "      <td>32.799999</td>\n",
       "      <td>31.950001</td>\n",
       "      <td>31.950001</td>\n",
       "      <td>32.049999</td>\n",
       "      <td>79385.0</td>\n",
       "      <td>32.049999</td>\n",
       "    </tr>\n",
       "    <tr>\n",
       "      <th>1</th>\n",
       "      <td>2000-08-24</td>\n",
       "      <td>32.240002</td>\n",
       "      <td>31.400000</td>\n",
       "      <td>31.900000</td>\n",
       "      <td>31.629999</td>\n",
       "      <td>72978.0</td>\n",
       "      <td>31.629999</td>\n",
       "    </tr>\n",
       "    <tr>\n",
       "      <th>2</th>\n",
       "      <td>2000-08-25</td>\n",
       "      <td>32.099998</td>\n",
       "      <td>31.320000</td>\n",
       "      <td>31.700001</td>\n",
       "      <td>32.049999</td>\n",
       "      <td>44601.0</td>\n",
       "      <td>32.049999</td>\n",
       "    </tr>\n",
       "    <tr>\n",
       "      <th>3</th>\n",
       "      <td>2000-08-28</td>\n",
       "      <td>32.919998</td>\n",
       "      <td>31.860001</td>\n",
       "      <td>32.040001</td>\n",
       "      <td>32.869999</td>\n",
       "      <td>46770.0</td>\n",
       "      <td>32.869999</td>\n",
       "    </tr>\n",
       "    <tr>\n",
       "      <th>4</th>\n",
       "      <td>2000-08-29</td>\n",
       "      <td>33.029999</td>\n",
       "      <td>32.560001</td>\n",
       "      <td>32.820000</td>\n",
       "      <td>32.720001</td>\n",
       "      <td>49131.0</td>\n",
       "      <td>32.720001</td>\n",
       "    </tr>\n",
       "  </tbody>\n",
       "</table>\n",
       "</div>"
      ],
      "text/plain": [
       "         Date       High        Low       Open      Close   Volume  Adj Close\n",
       "0  2000-08-23  32.799999  31.950001  31.950001  32.049999  79385.0  32.049999\n",
       "1  2000-08-24  32.240002  31.400000  31.900000  31.629999  72978.0  31.629999\n",
       "2  2000-08-25  32.099998  31.320000  31.700001  32.049999  44601.0  32.049999\n",
       "3  2000-08-28  32.919998  31.860001  32.040001  32.869999  46770.0  32.869999\n",
       "4  2000-08-29  33.029999  32.560001  32.820000  32.720001  49131.0  32.720001"
      ]
     },
     "execution_count": 9,
     "metadata": {},
     "output_type": "execute_result"
    }
   ],
   "source": [
    "co_price.head()"
   ]
  },
  {
   "cell_type": "code",
   "execution_count": 10,
   "id": "def46bbb",
   "metadata": {},
   "outputs": [
    {
     "data": {
      "text/html": [
       "<div>\n",
       "<style scoped>\n",
       "    .dataframe tbody tr th:only-of-type {\n",
       "        vertical-align: middle;\n",
       "    }\n",
       "\n",
       "    .dataframe tbody tr th {\n",
       "        vertical-align: top;\n",
       "    }\n",
       "\n",
       "    .dataframe thead th {\n",
       "        text-align: right;\n",
       "    }\n",
       "</style>\n",
       "<table border=\"1\" class=\"dataframe\">\n",
       "  <thead>\n",
       "    <tr style=\"text-align: right;\">\n",
       "      <th></th>\n",
       "      <th>Date</th>\n",
       "      <th>High</th>\n",
       "      <th>Low</th>\n",
       "      <th>Open</th>\n",
       "      <th>Close</th>\n",
       "      <th>Volume</th>\n",
       "      <th>Adj Close</th>\n",
       "    </tr>\n",
       "  </thead>\n",
       "  <tbody>\n",
       "    <tr>\n",
       "      <th>0</th>\n",
       "      <td>2000-09-01</td>\n",
       "      <td>0.991</td>\n",
       "      <td>0.9705</td>\n",
       "      <td>0.985</td>\n",
       "      <td>0.9764</td>\n",
       "      <td>14679.0</td>\n",
       "      <td>0.9764</td>\n",
       "    </tr>\n",
       "    <tr>\n",
       "      <th>1</th>\n",
       "      <td>2000-09-05</td>\n",
       "      <td>0.998</td>\n",
       "      <td>0.9750</td>\n",
       "      <td>0.995</td>\n",
       "      <td>0.9797</td>\n",
       "      <td>17365.0</td>\n",
       "      <td>0.9797</td>\n",
       "    </tr>\n",
       "    <tr>\n",
       "      <th>2</th>\n",
       "      <td>2000-09-06</td>\n",
       "      <td>1.000</td>\n",
       "      <td>0.9810</td>\n",
       "      <td>0.985</td>\n",
       "      <td>0.9966</td>\n",
       "      <td>18879.0</td>\n",
       "      <td>0.9966</td>\n",
       "    </tr>\n",
       "    <tr>\n",
       "      <th>3</th>\n",
       "      <td>2000-09-07</td>\n",
       "      <td>1.030</td>\n",
       "      <td>0.9880</td>\n",
       "      <td>0.990</td>\n",
       "      <td>1.0295</td>\n",
       "      <td>23851.0</td>\n",
       "      <td>1.0295</td>\n",
       "    </tr>\n",
       "    <tr>\n",
       "      <th>4</th>\n",
       "      <td>2000-09-08</td>\n",
       "      <td>1.020</td>\n",
       "      <td>0.9910</td>\n",
       "      <td>1.012</td>\n",
       "      <td>0.9949</td>\n",
       "      <td>23189.0</td>\n",
       "      <td>0.9949</td>\n",
       "    </tr>\n",
       "  </tbody>\n",
       "</table>\n",
       "</div>"
      ],
      "text/plain": [
       "         Date   High     Low   Open   Close   Volume  Adj Close\n",
       "0  2000-09-01  0.991  0.9705  0.985  0.9764  14679.0     0.9764\n",
       "1  2000-09-05  0.998  0.9750  0.995  0.9797  17365.0     0.9797\n",
       "2  2000-09-06  1.000  0.9810  0.985  0.9966  18879.0     0.9966\n",
       "3  2000-09-07  1.030  0.9880  0.990  1.0295  23851.0     1.0295\n",
       "4  2000-09-08  1.020  0.9910  1.012  0.9949  23189.0     0.9949"
      ]
     },
     "execution_count": 10,
     "metadata": {},
     "output_type": "execute_result"
    }
   ],
   "source": [
    "ho_price.head()"
   ]
  },
  {
   "cell_type": "code",
   "execution_count": 16,
   "id": "0eae83db",
   "metadata": {},
   "outputs": [
    {
     "data": {
      "text/html": [
       "<div>\n",
       "<style scoped>\n",
       "    .dataframe tbody tr th:only-of-type {\n",
       "        vertical-align: middle;\n",
       "    }\n",
       "\n",
       "    .dataframe tbody tr th {\n",
       "        vertical-align: top;\n",
       "    }\n",
       "\n",
       "    .dataframe thead th {\n",
       "        text-align: right;\n",
       "    }\n",
       "</style>\n",
       "<table border=\"1\" class=\"dataframe\">\n",
       "  <thead>\n",
       "    <tr style=\"text-align: right;\">\n",
       "      <th></th>\n",
       "      <th>Month</th>\n",
       "      <th>U.S. Natural Gas Marketed Production  Million Cubic Feet</th>\n",
       "    </tr>\n",
       "  </thead>\n",
       "  <tbody>\n",
       "    <tr>\n",
       "      <th>582</th>\n",
       "      <td>May 1973</td>\n",
       "      <td>1898000</td>\n",
       "    </tr>\n",
       "    <tr>\n",
       "      <th>583</th>\n",
       "      <td>Apr 1973</td>\n",
       "      <td>1814000</td>\n",
       "    </tr>\n",
       "    <tr>\n",
       "      <th>584</th>\n",
       "      <td>Mar 1973</td>\n",
       "      <td>1907000</td>\n",
       "    </tr>\n",
       "    <tr>\n",
       "      <th>585</th>\n",
       "      <td>Feb 1973</td>\n",
       "      <td>1962000</td>\n",
       "    </tr>\n",
       "    <tr>\n",
       "      <th>586</th>\n",
       "      <td>Jan 1973</td>\n",
       "      <td>1948000</td>\n",
       "    </tr>\n",
       "  </tbody>\n",
       "</table>\n",
       "</div>"
      ],
      "text/plain": [
       "        Month  U.S. Natural Gas Marketed Production  Million Cubic Feet\n",
       "582  May 1973                                            1898000       \n",
       "583  Apr 1973                                            1814000       \n",
       "584  Mar 1973                                            1907000       \n",
       "585  Feb 1973                                            1962000       \n",
       "586  Jan 1973                                            1948000       "
      ]
     },
     "execution_count": 16,
     "metadata": {},
     "output_type": "execute_result"
    }
   ],
   "source": [
    "ng_production.tail()"
   ]
  },
  {
   "cell_type": "code",
   "execution_count": 14,
   "id": "5d0cda27",
   "metadata": {},
   "outputs": [
    {
     "data": {
      "text/html": [
       "<div>\n",
       "<style scoped>\n",
       "    .dataframe tbody tr th:only-of-type {\n",
       "        vertical-align: middle;\n",
       "    }\n",
       "\n",
       "    .dataframe tbody tr th {\n",
       "        vertical-align: top;\n",
       "    }\n",
       "\n",
       "    .dataframe thead th {\n",
       "        text-align: right;\n",
       "    }\n",
       "</style>\n",
       "<table border=\"1\" class=\"dataframe\">\n",
       "  <thead>\n",
       "    <tr style=\"text-align: right;\">\n",
       "      <th></th>\n",
       "      <th>Month</th>\n",
       "      <th>U.S. Natural Gas Total Consumption  Million Cubic Feet</th>\n",
       "    </tr>\n",
       "  </thead>\n",
       "  <tbody>\n",
       "    <tr>\n",
       "      <th>246</th>\n",
       "      <td>May 2001</td>\n",
       "      <td>1522382</td>\n",
       "    </tr>\n",
       "    <tr>\n",
       "      <th>247</th>\n",
       "      <td>Apr 2001</td>\n",
       "      <td>1807170</td>\n",
       "    </tr>\n",
       "    <tr>\n",
       "      <th>248</th>\n",
       "      <td>Mar 2001</td>\n",
       "      <td>2246633</td>\n",
       "    </tr>\n",
       "    <tr>\n",
       "      <th>249</th>\n",
       "      <td>Feb 2001</td>\n",
       "      <td>2309464</td>\n",
       "    </tr>\n",
       "    <tr>\n",
       "      <th>250</th>\n",
       "      <td>Jan 2001</td>\n",
       "      <td>2676998</td>\n",
       "    </tr>\n",
       "  </tbody>\n",
       "</table>\n",
       "</div>"
      ],
      "text/plain": [
       "        Month  U.S. Natural Gas Total Consumption  Million Cubic Feet\n",
       "246  May 2001                                            1522382     \n",
       "247  Apr 2001                                            1807170     \n",
       "248  Mar 2001                                            2246633     \n",
       "249  Feb 2001                                            2309464     \n",
       "250  Jan 2001                                            2676998     "
      ]
     },
     "execution_count": 14,
     "metadata": {},
     "output_type": "execute_result"
    }
   ],
   "source": [
    "ng_consumption.tail()"
   ]
  },
  {
   "cell_type": "code",
   "execution_count": null,
   "id": "6ed31bc0",
   "metadata": {},
   "outputs": [],
   "source": []
  }
 ],
 "metadata": {
  "kernelspec": {
   "display_name": "Python 3 (ipykernel)",
   "language": "python",
   "name": "python3"
  },
  "language_info": {
   "codemirror_mode": {
    "name": "ipython",
    "version": 3
   },
   "file_extension": ".py",
   "mimetype": "text/x-python",
   "name": "python",
   "nbconvert_exporter": "python",
   "pygments_lexer": "ipython3",
   "version": "3.10.1"
  }
 },
 "nbformat": 4,
 "nbformat_minor": 5
}
