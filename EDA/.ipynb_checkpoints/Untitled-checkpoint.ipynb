{
 "cells": [
  {
   "cell_type": "code",
   "execution_count": 3,
   "id": "99eaf342",
   "metadata": {},
   "outputs": [],
   "source": [
    "#importing libraries\n",
    "from sklearn.datasets import load_boston\n",
    "import pandas as pd\n",
    "import matplotlib.pyplot as plt\n",
    "%matplotlib inline"
   ]
  },
  {
   "cell_type": "code",
   "execution_count": 7,
   "id": "f1052fe8",
   "metadata": {},
   "outputs": [],
   "source": [
    "ng_price = pd.read_csv(\"datasets/NaturalGasPrice.csv\")\n",
    "co_price = pd.read_csv(\"datasets/CrudeOilPrice.csv\")\n",
    "ho_price = pd.read_csv(\"datasets/HeatingOilPrice.csv\")\n",
    "ng_production = pd.read_csv(\"datasets/NGProduction.csv\")\n",
    "ng_consumption = pd.read_csv(\"datasets/NGConsumption.csv\")"
   ]
  },
  {
   "cell_type": "code",
   "execution_count": 8,
   "id": "798590ec",
   "metadata": {},
   "outputs": [
    {
     "data": {
      "text/html": [
       "<div>\n",
       "<style scoped>\n",
       "    .dataframe tbody tr th:only-of-type {\n",
       "        vertical-align: middle;\n",
       "    }\n",
       "\n",
       "    .dataframe tbody tr th {\n",
       "        vertical-align: top;\n",
       "    }\n",
       "\n",
       "    .dataframe thead th {\n",
       "        text-align: right;\n",
       "    }\n",
       "</style>\n",
       "<table border=\"1\" class=\"dataframe\">\n",
       "  <thead>\n",
       "    <tr style=\"text-align: right;\">\n",
       "      <th></th>\n",
       "      <th>Date</th>\n",
       "      <th>High</th>\n",
       "      <th>Low</th>\n",
       "      <th>Open</th>\n",
       "      <th>Close</th>\n",
       "      <th>Volume</th>\n",
       "      <th>Adj Close</th>\n",
       "    </tr>\n",
       "  </thead>\n",
       "  <tbody>\n",
       "    <tr>\n",
       "      <th>0</th>\n",
       "      <td>2000-08-30</td>\n",
       "      <td>4.815</td>\n",
       "      <td>4.63</td>\n",
       "      <td>4.65</td>\n",
       "      <td>4.805</td>\n",
       "      <td>34954.0</td>\n",
       "      <td>4.805</td>\n",
       "    </tr>\n",
       "    <tr>\n",
       "      <th>1</th>\n",
       "      <td>2000-08-31</td>\n",
       "      <td>4.870</td>\n",
       "      <td>4.74</td>\n",
       "      <td>4.82</td>\n",
       "      <td>4.780</td>\n",
       "      <td>25787.0</td>\n",
       "      <td>4.780</td>\n",
       "    </tr>\n",
       "    <tr>\n",
       "      <th>2</th>\n",
       "      <td>2000-09-01</td>\n",
       "      <td>4.860</td>\n",
       "      <td>4.75</td>\n",
       "      <td>4.75</td>\n",
       "      <td>4.835</td>\n",
       "      <td>113.0</td>\n",
       "      <td>4.835</td>\n",
       "    </tr>\n",
       "    <tr>\n",
       "      <th>3</th>\n",
       "      <td>2000-09-05</td>\n",
       "      <td>4.975</td>\n",
       "      <td>4.84</td>\n",
       "      <td>4.85</td>\n",
       "      <td>4.960</td>\n",
       "      <td>26096.0</td>\n",
       "      <td>4.960</td>\n",
       "    </tr>\n",
       "    <tr>\n",
       "      <th>4</th>\n",
       "      <td>2000-09-06</td>\n",
       "      <td>5.110</td>\n",
       "      <td>4.96</td>\n",
       "      <td>4.99</td>\n",
       "      <td>5.065</td>\n",
       "      <td>32764.0</td>\n",
       "      <td>5.065</td>\n",
       "    </tr>\n",
       "  </tbody>\n",
       "</table>\n",
       "</div>"
      ],
      "text/plain": [
       "         Date   High   Low  Open  Close   Volume  Adj Close\n",
       "0  2000-08-30  4.815  4.63  4.65  4.805  34954.0      4.805\n",
       "1  2000-08-31  4.870  4.74  4.82  4.780  25787.0      4.780\n",
       "2  2000-09-01  4.860  4.75  4.75  4.835    113.0      4.835\n",
       "3  2000-09-05  4.975  4.84  4.85  4.960  26096.0      4.960\n",
       "4  2000-09-06  5.110  4.96  4.99  5.065  32764.0      5.065"
      ]
     },
     "execution_count": 8,
     "metadata": {},
     "output_type": "execute_result"
    }
   ],
   "source": [
    "ng_price.head()"
   ]
  },
  {
   "cell_type": "code",
   "execution_count": null,
   "id": "2378c7ab",
   "metadata": {},
   "outputs": [],
   "source": []
  }
 ],
 "metadata": {
  "kernelspec": {
   "display_name": "Python 3 (ipykernel)",
   "language": "python",
   "name": "python3"
  },
  "language_info": {
   "codemirror_mode": {
    "name": "ipython",
    "version": 3
   },
   "file_extension": ".py",
   "mimetype": "text/x-python",
   "name": "python",
   "nbconvert_exporter": "python",
   "pygments_lexer": "ipython3",
   "version": "3.10.1"
  }
 },
 "nbformat": 4,
 "nbformat_minor": 5
}
