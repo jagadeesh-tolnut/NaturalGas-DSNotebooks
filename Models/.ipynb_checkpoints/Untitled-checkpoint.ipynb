{
 "cells": [
  {
   "cell_type": "code",
   "execution_count": 1,
   "id": "163e5d4f",
   "metadata": {},
   "outputs": [
    {
     "name": "stderr",
     "output_type": "stream",
     "text": [
      "2022-03-07 09:24:16.060161: W tensorflow/stream_executor/platform/default/dso_loader.cc:64] Could not load dynamic library 'libcudart.so.11.0'; dlerror: libcudart.so.11.0: cannot open shared object file: No such file or directory\n",
      "2022-03-07 09:24:16.060327: I tensorflow/stream_executor/cuda/cudart_stub.cc:29] Ignore above cudart dlerror if you do not have a GPU set up on your machine.\n"
     ]
    }
   ],
   "source": [
    "import numpy as np\n",
    "from tensorflow.keras.models import Sequential\n",
    "from tensorflow.keras.layers import LSTM\n",
    "from tensorflow.keras.layers import Dense, Dropout\n",
    "import pandas as pd\n",
    "from matplotlib import pyplot as plt\n",
    "from sklearn.preprocessing import StandardScaler\n",
    "import seaborn as sns"
   ]
  },
  {
   "cell_type": "code",
   "execution_count": 2,
   "id": "15e3830a",
   "metadata": {},
   "outputs": [],
   "source": [
    "df = pd.read_csv('Data/processed_data.csv')"
   ]
  },
  {
   "cell_type": "code",
   "execution_count": 3,
   "id": "e3af3c1e",
   "metadata": {},
   "outputs": [
    {
     "data": {
      "text/html": [
       "<div>\n",
       "<style scoped>\n",
       "    .dataframe tbody tr th:only-of-type {\n",
       "        vertical-align: middle;\n",
       "    }\n",
       "\n",
       "    .dataframe tbody tr th {\n",
       "        vertical-align: top;\n",
       "    }\n",
       "\n",
       "    .dataframe thead th {\n",
       "        text-align: right;\n",
       "    }\n",
       "</style>\n",
       "<table border=\"1\" class=\"dataframe\">\n",
       "  <thead>\n",
       "    <tr style=\"text-align: right;\">\n",
       "      <th></th>\n",
       "      <th>Date</th>\n",
       "      <th>NaturalGas</th>\n",
       "      <th>CrudeOil</th>\n",
       "      <th>HeatingOil</th>\n",
       "      <th>Consumption</th>\n",
       "      <th>Production</th>\n",
       "      <th>UndergroundStorage</th>\n",
       "    </tr>\n",
       "  </thead>\n",
       "  <tbody>\n",
       "    <tr>\n",
       "      <th>0</th>\n",
       "      <td>2001-01-01</td>\n",
       "      <td>7.4800</td>\n",
       "      <td>29.360001</td>\n",
       "      <td>0.84150</td>\n",
       "      <td>2676998</td>\n",
       "      <td>1753237</td>\n",
       "      <td>5609446.0</td>\n",
       "    </tr>\n",
       "    <tr>\n",
       "      <th>1</th>\n",
       "      <td>2001-02-01</td>\n",
       "      <td>5.5950</td>\n",
       "      <td>29.750000</td>\n",
       "      <td>0.77250</td>\n",
       "      <td>2309464</td>\n",
       "      <td>1582557</td>\n",
       "      <td>5240820.0</td>\n",
       "    </tr>\n",
       "    <tr>\n",
       "      <th>2</th>\n",
       "      <td>2001-03-01</td>\n",
       "      <td>5.2425</td>\n",
       "      <td>27.375000</td>\n",
       "      <td>0.72905</td>\n",
       "      <td>2246633</td>\n",
       "      <td>1766754</td>\n",
       "      <td>5041971.0</td>\n",
       "    </tr>\n",
       "    <tr>\n",
       "      <th>3</th>\n",
       "      <td>2001-04-01</td>\n",
       "      <td>5.1380</td>\n",
       "      <td>27.720000</td>\n",
       "      <td>0.75520</td>\n",
       "      <td>1807170</td>\n",
       "      <td>1703310</td>\n",
       "      <td>5252851.0</td>\n",
       "    </tr>\n",
       "    <tr>\n",
       "      <th>4</th>\n",
       "      <td>2001-05-01</td>\n",
       "      <td>4.2630</td>\n",
       "      <td>28.549999</td>\n",
       "      <td>0.77145</td>\n",
       "      <td>1522382</td>\n",
       "      <td>1763141</td>\n",
       "      <td>5749464.0</td>\n",
       "    </tr>\n",
       "    <tr>\n",
       "      <th>...</th>\n",
       "      <td>...</td>\n",
       "      <td>...</td>\n",
       "      <td>...</td>\n",
       "      <td>...</td>\n",
       "      <td>...</td>\n",
       "      <td>...</td>\n",
       "      <td>...</td>\n",
       "    </tr>\n",
       "    <tr>\n",
       "      <th>235</th>\n",
       "      <td>2020-08-01</td>\n",
       "      <td>2.3520</td>\n",
       "      <td>42.580002</td>\n",
       "      <td>1.24090</td>\n",
       "      <td>2401321</td>\n",
       "      <td>3011580</td>\n",
       "      <td>7911918.0</td>\n",
       "    </tr>\n",
       "    <tr>\n",
       "      <th>236</th>\n",
       "      <td>2020-09-01</td>\n",
       "      <td>2.3100</td>\n",
       "      <td>39.930000</td>\n",
       "      <td>1.11630</td>\n",
       "      <td>2171842</td>\n",
       "      <td>2917569</td>\n",
       "      <td>8228769.0</td>\n",
       "    </tr>\n",
       "    <tr>\n",
       "      <th>237</th>\n",
       "      <td>2020-10-01</td>\n",
       "      <td>2.8250</td>\n",
       "      <td>39.990000</td>\n",
       "      <td>1.15790</td>\n",
       "      <td>2320028</td>\n",
       "      <td>2991827</td>\n",
       "      <td>8321354.0</td>\n",
       "    </tr>\n",
       "    <tr>\n",
       "      <th>238</th>\n",
       "      <td>2020-11-01</td>\n",
       "      <td>2.8850</td>\n",
       "      <td>41.395000</td>\n",
       "      <td>1.24245</td>\n",
       "      <td>2434877</td>\n",
       "      <td>2984528</td>\n",
       "      <td>8325457.0</td>\n",
       "    </tr>\n",
       "    <tr>\n",
       "      <th>239</th>\n",
       "      <td>2020-12-01</td>\n",
       "      <td>2.5830</td>\n",
       "      <td>47.320000</td>\n",
       "      <td>1.46300</td>\n",
       "      <td>3167833</td>\n",
       "      <td>3088701</td>\n",
       "      <td>7735441.0</td>\n",
       "    </tr>\n",
       "  </tbody>\n",
       "</table>\n",
       "<p>240 rows × 7 columns</p>\n",
       "</div>"
      ],
      "text/plain": [
       "           Date  NaturalGas   CrudeOil  HeatingOil  Consumption  Production  \\\n",
       "0    2001-01-01      7.4800  29.360001     0.84150      2676998     1753237   \n",
       "1    2001-02-01      5.5950  29.750000     0.77250      2309464     1582557   \n",
       "2    2001-03-01      5.2425  27.375000     0.72905      2246633     1766754   \n",
       "3    2001-04-01      5.1380  27.720000     0.75520      1807170     1703310   \n",
       "4    2001-05-01      4.2630  28.549999     0.77145      1522382     1763141   \n",
       "..          ...         ...        ...         ...          ...         ...   \n",
       "235  2020-08-01      2.3520  42.580002     1.24090      2401321     3011580   \n",
       "236  2020-09-01      2.3100  39.930000     1.11630      2171842     2917569   \n",
       "237  2020-10-01      2.8250  39.990000     1.15790      2320028     2991827   \n",
       "238  2020-11-01      2.8850  41.395000     1.24245      2434877     2984528   \n",
       "239  2020-12-01      2.5830  47.320000     1.46300      3167833     3088701   \n",
       "\n",
       "     UndergroundStorage  \n",
       "0             5609446.0  \n",
       "1             5240820.0  \n",
       "2             5041971.0  \n",
       "3             5252851.0  \n",
       "4             5749464.0  \n",
       "..                  ...  \n",
       "235           7911918.0  \n",
       "236           8228769.0  \n",
       "237           8321354.0  \n",
       "238           8325457.0  \n",
       "239           7735441.0  \n",
       "\n",
       "[240 rows x 7 columns]"
      ]
     },
     "execution_count": 3,
     "metadata": {},
     "output_type": "execute_result"
    }
   ],
   "source": [
    "df"
   ]
  },
  {
   "cell_type": "code",
   "execution_count": 4,
   "id": "1684fc6f",
   "metadata": {},
   "outputs": [],
   "source": [
    "train_dates = pd.to_datetime(df['Date'])"
   ]
  },
  {
   "cell_type": "code",
   "execution_count": 5,
   "id": "dcb9a451",
   "metadata": {},
   "outputs": [
    {
     "data": {
      "text/plain": [
       "0    2001-01-01\n",
       "1    2001-02-01\n",
       "2    2001-03-01\n",
       "3    2001-04-01\n",
       "4    2001-05-01\n",
       "5    2001-06-01\n",
       "6    2001-07-01\n",
       "7    2001-08-01\n",
       "8    2001-09-01\n",
       "9    2001-10-01\n",
       "10   2001-11-01\n",
       "11   2001-12-01\n",
       "12   2002-01-01\n",
       "13   2002-02-01\n",
       "14   2002-03-01\n",
       "Name: Date, dtype: datetime64[ns]"
      ]
     },
     "execution_count": 5,
     "metadata": {},
     "output_type": "execute_result"
    }
   ],
   "source": [
    "train_dates.head(15)"
   ]
  },
  {
   "cell_type": "code",
   "execution_count": 6,
   "id": "961cb3b1",
   "metadata": {},
   "outputs": [],
   "source": [
    "df = df.drop(['HeatingOil'], axis = 1)"
   ]
  },
  {
   "cell_type": "code",
   "execution_count": 7,
   "id": "c08345e0",
   "metadata": {},
   "outputs": [
    {
     "data": {
      "text/html": [
       "<div>\n",
       "<style scoped>\n",
       "    .dataframe tbody tr th:only-of-type {\n",
       "        vertical-align: middle;\n",
       "    }\n",
       "\n",
       "    .dataframe tbody tr th {\n",
       "        vertical-align: top;\n",
       "    }\n",
       "\n",
       "    .dataframe thead th {\n",
       "        text-align: right;\n",
       "    }\n",
       "</style>\n",
       "<table border=\"1\" class=\"dataframe\">\n",
       "  <thead>\n",
       "    <tr style=\"text-align: right;\">\n",
       "      <th></th>\n",
       "      <th>Date</th>\n",
       "      <th>NaturalGas</th>\n",
       "      <th>CrudeOil</th>\n",
       "      <th>Consumption</th>\n",
       "      <th>Production</th>\n",
       "      <th>UndergroundStorage</th>\n",
       "    </tr>\n",
       "  </thead>\n",
       "  <tbody>\n",
       "    <tr>\n",
       "      <th>0</th>\n",
       "      <td>2001-01-01</td>\n",
       "      <td>7.4800</td>\n",
       "      <td>29.360001</td>\n",
       "      <td>2676998</td>\n",
       "      <td>1753237</td>\n",
       "      <td>5609446.0</td>\n",
       "    </tr>\n",
       "    <tr>\n",
       "      <th>1</th>\n",
       "      <td>2001-02-01</td>\n",
       "      <td>5.5950</td>\n",
       "      <td>29.750000</td>\n",
       "      <td>2309464</td>\n",
       "      <td>1582557</td>\n",
       "      <td>5240820.0</td>\n",
       "    </tr>\n",
       "    <tr>\n",
       "      <th>2</th>\n",
       "      <td>2001-03-01</td>\n",
       "      <td>5.2425</td>\n",
       "      <td>27.375000</td>\n",
       "      <td>2246633</td>\n",
       "      <td>1766754</td>\n",
       "      <td>5041971.0</td>\n",
       "    </tr>\n",
       "    <tr>\n",
       "      <th>3</th>\n",
       "      <td>2001-04-01</td>\n",
       "      <td>5.1380</td>\n",
       "      <td>27.720000</td>\n",
       "      <td>1807170</td>\n",
       "      <td>1703310</td>\n",
       "      <td>5252851.0</td>\n",
       "    </tr>\n",
       "    <tr>\n",
       "      <th>4</th>\n",
       "      <td>2001-05-01</td>\n",
       "      <td>4.2630</td>\n",
       "      <td>28.549999</td>\n",
       "      <td>1522382</td>\n",
       "      <td>1763141</td>\n",
       "      <td>5749464.0</td>\n",
       "    </tr>\n",
       "    <tr>\n",
       "      <th>...</th>\n",
       "      <td>...</td>\n",
       "      <td>...</td>\n",
       "      <td>...</td>\n",
       "      <td>...</td>\n",
       "      <td>...</td>\n",
       "      <td>...</td>\n",
       "    </tr>\n",
       "    <tr>\n",
       "      <th>235</th>\n",
       "      <td>2020-08-01</td>\n",
       "      <td>2.3520</td>\n",
       "      <td>42.580002</td>\n",
       "      <td>2401321</td>\n",
       "      <td>3011580</td>\n",
       "      <td>7911918.0</td>\n",
       "    </tr>\n",
       "    <tr>\n",
       "      <th>236</th>\n",
       "      <td>2020-09-01</td>\n",
       "      <td>2.3100</td>\n",
       "      <td>39.930000</td>\n",
       "      <td>2171842</td>\n",
       "      <td>2917569</td>\n",
       "      <td>8228769.0</td>\n",
       "    </tr>\n",
       "    <tr>\n",
       "      <th>237</th>\n",
       "      <td>2020-10-01</td>\n",
       "      <td>2.8250</td>\n",
       "      <td>39.990000</td>\n",
       "      <td>2320028</td>\n",
       "      <td>2991827</td>\n",
       "      <td>8321354.0</td>\n",
       "    </tr>\n",
       "    <tr>\n",
       "      <th>238</th>\n",
       "      <td>2020-11-01</td>\n",
       "      <td>2.8850</td>\n",
       "      <td>41.395000</td>\n",
       "      <td>2434877</td>\n",
       "      <td>2984528</td>\n",
       "      <td>8325457.0</td>\n",
       "    </tr>\n",
       "    <tr>\n",
       "      <th>239</th>\n",
       "      <td>2020-12-01</td>\n",
       "      <td>2.5830</td>\n",
       "      <td>47.320000</td>\n",
       "      <td>3167833</td>\n",
       "      <td>3088701</td>\n",
       "      <td>7735441.0</td>\n",
       "    </tr>\n",
       "  </tbody>\n",
       "</table>\n",
       "<p>240 rows × 6 columns</p>\n",
       "</div>"
      ],
      "text/plain": [
       "           Date  NaturalGas   CrudeOil  Consumption  Production  \\\n",
       "0    2001-01-01      7.4800  29.360001      2676998     1753237   \n",
       "1    2001-02-01      5.5950  29.750000      2309464     1582557   \n",
       "2    2001-03-01      5.2425  27.375000      2246633     1766754   \n",
       "3    2001-04-01      5.1380  27.720000      1807170     1703310   \n",
       "4    2001-05-01      4.2630  28.549999      1522382     1763141   \n",
       "..          ...         ...        ...          ...         ...   \n",
       "235  2020-08-01      2.3520  42.580002      2401321     3011580   \n",
       "236  2020-09-01      2.3100  39.930000      2171842     2917569   \n",
       "237  2020-10-01      2.8250  39.990000      2320028     2991827   \n",
       "238  2020-11-01      2.8850  41.395000      2434877     2984528   \n",
       "239  2020-12-01      2.5830  47.320000      3167833     3088701   \n",
       "\n",
       "     UndergroundStorage  \n",
       "0             5609446.0  \n",
       "1             5240820.0  \n",
       "2             5041971.0  \n",
       "3             5252851.0  \n",
       "4             5749464.0  \n",
       "..                  ...  \n",
       "235           7911918.0  \n",
       "236           8228769.0  \n",
       "237           8321354.0  \n",
       "238           8325457.0  \n",
       "239           7735441.0  \n",
       "\n",
       "[240 rows x 6 columns]"
      ]
     },
     "execution_count": 7,
     "metadata": {},
     "output_type": "execute_result"
    }
   ],
   "source": [
    "df"
   ]
  },
  {
   "cell_type": "code",
   "execution_count": 8,
   "id": "284d9807",
   "metadata": {},
   "outputs": [
    {
     "data": {
      "text/plain": [
       "['NaturalGas', 'CrudeOil', 'Consumption', 'Production', 'UndergroundStorage']"
      ]
     },
     "execution_count": 8,
     "metadata": {},
     "output_type": "execute_result"
    }
   ],
   "source": [
    "cols = list(df)[1:6]\n",
    "cols"
   ]
  },
  {
   "cell_type": "code",
   "execution_count": 9,
   "id": "9aef46c9",
   "metadata": {},
   "outputs": [
    {
     "data": {
      "text/html": [
       "<div>\n",
       "<style scoped>\n",
       "    .dataframe tbody tr th:only-of-type {\n",
       "        vertical-align: middle;\n",
       "    }\n",
       "\n",
       "    .dataframe tbody tr th {\n",
       "        vertical-align: top;\n",
       "    }\n",
       "\n",
       "    .dataframe thead th {\n",
       "        text-align: right;\n",
       "    }\n",
       "</style>\n",
       "<table border=\"1\" class=\"dataframe\">\n",
       "  <thead>\n",
       "    <tr style=\"text-align: right;\">\n",
       "      <th></th>\n",
       "      <th>NaturalGas</th>\n",
       "      <th>CrudeOil</th>\n",
       "      <th>Consumption</th>\n",
       "      <th>Production</th>\n",
       "      <th>UndergroundStorage</th>\n",
       "    </tr>\n",
       "  </thead>\n",
       "  <tbody>\n",
       "    <tr>\n",
       "      <th>0</th>\n",
       "      <td>7.4800</td>\n",
       "      <td>29.360001</td>\n",
       "      <td>2676998.0</td>\n",
       "      <td>1753237.0</td>\n",
       "      <td>5609446.0</td>\n",
       "    </tr>\n",
       "    <tr>\n",
       "      <th>1</th>\n",
       "      <td>5.5950</td>\n",
       "      <td>29.750000</td>\n",
       "      <td>2309464.0</td>\n",
       "      <td>1582557.0</td>\n",
       "      <td>5240820.0</td>\n",
       "    </tr>\n",
       "    <tr>\n",
       "      <th>2</th>\n",
       "      <td>5.2425</td>\n",
       "      <td>27.375000</td>\n",
       "      <td>2246633.0</td>\n",
       "      <td>1766754.0</td>\n",
       "      <td>5041971.0</td>\n",
       "    </tr>\n",
       "    <tr>\n",
       "      <th>3</th>\n",
       "      <td>5.1380</td>\n",
       "      <td>27.720000</td>\n",
       "      <td>1807170.0</td>\n",
       "      <td>1703310.0</td>\n",
       "      <td>5252851.0</td>\n",
       "    </tr>\n",
       "    <tr>\n",
       "      <th>4</th>\n",
       "      <td>4.2630</td>\n",
       "      <td>28.549999</td>\n",
       "      <td>1522382.0</td>\n",
       "      <td>1763141.0</td>\n",
       "      <td>5749464.0</td>\n",
       "    </tr>\n",
       "    <tr>\n",
       "      <th>...</th>\n",
       "      <td>...</td>\n",
       "      <td>...</td>\n",
       "      <td>...</td>\n",
       "      <td>...</td>\n",
       "      <td>...</td>\n",
       "    </tr>\n",
       "    <tr>\n",
       "      <th>235</th>\n",
       "      <td>2.3520</td>\n",
       "      <td>42.580002</td>\n",
       "      <td>2401321.0</td>\n",
       "      <td>3011580.0</td>\n",
       "      <td>7911918.0</td>\n",
       "    </tr>\n",
       "    <tr>\n",
       "      <th>236</th>\n",
       "      <td>2.3100</td>\n",
       "      <td>39.930000</td>\n",
       "      <td>2171842.0</td>\n",
       "      <td>2917569.0</td>\n",
       "      <td>8228769.0</td>\n",
       "    </tr>\n",
       "    <tr>\n",
       "      <th>237</th>\n",
       "      <td>2.8250</td>\n",
       "      <td>39.990000</td>\n",
       "      <td>2320028.0</td>\n",
       "      <td>2991827.0</td>\n",
       "      <td>8321354.0</td>\n",
       "    </tr>\n",
       "    <tr>\n",
       "      <th>238</th>\n",
       "      <td>2.8850</td>\n",
       "      <td>41.395000</td>\n",
       "      <td>2434877.0</td>\n",
       "      <td>2984528.0</td>\n",
       "      <td>8325457.0</td>\n",
       "    </tr>\n",
       "    <tr>\n",
       "      <th>239</th>\n",
       "      <td>2.5830</td>\n",
       "      <td>47.320000</td>\n",
       "      <td>3167833.0</td>\n",
       "      <td>3088701.0</td>\n",
       "      <td>7735441.0</td>\n",
       "    </tr>\n",
       "  </tbody>\n",
       "</table>\n",
       "<p>240 rows × 5 columns</p>\n",
       "</div>"
      ],
      "text/plain": [
       "     NaturalGas   CrudeOil  Consumption  Production  UndergroundStorage\n",
       "0        7.4800  29.360001    2676998.0   1753237.0           5609446.0\n",
       "1        5.5950  29.750000    2309464.0   1582557.0           5240820.0\n",
       "2        5.2425  27.375000    2246633.0   1766754.0           5041971.0\n",
       "3        5.1380  27.720000    1807170.0   1703310.0           5252851.0\n",
       "4        4.2630  28.549999    1522382.0   1763141.0           5749464.0\n",
       "..          ...        ...          ...         ...                 ...\n",
       "235      2.3520  42.580002    2401321.0   3011580.0           7911918.0\n",
       "236      2.3100  39.930000    2171842.0   2917569.0           8228769.0\n",
       "237      2.8250  39.990000    2320028.0   2991827.0           8321354.0\n",
       "238      2.8850  41.395000    2434877.0   2984528.0           8325457.0\n",
       "239      2.5830  47.320000    3167833.0   3088701.0           7735441.0\n",
       "\n",
       "[240 rows x 5 columns]"
      ]
     },
     "execution_count": 9,
     "metadata": {},
     "output_type": "execute_result"
    }
   ],
   "source": [
    "df_for_training = df[cols].astype(float)\n",
    "df_for_training"
   ]
  },
  {
   "cell_type": "code",
   "execution_count": 10,
   "id": "7e58959a",
   "metadata": {},
   "outputs": [],
   "source": [
    "scaler = StandardScaler()\n",
    "scaler = scaler.fit(df_for_training)\n",
    "df_for_training_scaled = scaler.transform(df_for_training)"
   ]
  },
  {
   "cell_type": "code",
   "execution_count": 11,
   "id": "f0ed6fad",
   "metadata": {},
   "outputs": [
    {
     "data": {
      "text/plain": [
       "array([[ 1.32321079, -1.28164883,  1.26934144, -0.69545001, -1.59598615],\n",
       "       [ 0.48489402, -1.26645599,  0.46443987, -1.06402072, -2.05187971],\n",
       "       [ 0.3281267 , -1.35897665,  0.32683962, -0.66626106, -2.29780371],\n",
       "       ...,\n",
       "       [-0.74700888, -0.8675459 ,  0.48757509,  1.97919255,  1.75793193],\n",
       "       [-0.72032508, -0.8128126 ,  0.73909506,  1.9634309 ,  1.76300627],\n",
       "       [-0.85463361, -0.58199794,  2.34427292,  2.18838471,  1.03331141]])"
      ]
     },
     "execution_count": 11,
     "metadata": {},
     "output_type": "execute_result"
    }
   ],
   "source": [
    "df_for_training_scaled"
   ]
  },
  {
   "cell_type": "code",
   "execution_count": 12,
   "id": "0de8e21e",
   "metadata": {},
   "outputs": [],
   "source": [
    "trainX = []\n",
    "trainY = []"
   ]
  },
  {
   "cell_type": "code",
   "execution_count": 13,
   "id": "c9767ab0",
   "metadata": {},
   "outputs": [],
   "source": [
    "n_future = 3\n",
    "n_past = 24"
   ]
  },
  {
   "cell_type": "code",
   "execution_count": 14,
   "id": "aee62ba6",
   "metadata": {},
   "outputs": [],
   "source": [
    "for i in range(n_past, len(df_for_training_scaled) - n_future +1):\n",
    "    trainX.append(df_for_training_scaled[i - n_past:i, 0:df_for_training.shape[1]])\n",
    "    trainY.append(df_for_training_scaled[i + n_future - 1:i + n_future, 0])"
   ]
  },
  {
   "cell_type": "code",
   "execution_count": 15,
   "id": "13a7d36d",
   "metadata": {},
   "outputs": [],
   "source": [
    "trainX, trainY = np.array(trainX), np.array(trainY)"
   ]
  },
  {
   "cell_type": "code",
   "execution_count": 16,
   "id": "75af4f3e",
   "metadata": {},
   "outputs": [
    {
     "data": {
      "text/plain": [
       "(214, 24, 5)"
      ]
     },
     "execution_count": 16,
     "metadata": {},
     "output_type": "execute_result"
    }
   ],
   "source": [
    "trainX.shape"
   ]
  },
  {
   "cell_type": "code",
   "execution_count": 17,
   "id": "05eab52e",
   "metadata": {},
   "outputs": [
    {
     "data": {
      "text/plain": [
       "(214, 1)"
      ]
     },
     "execution_count": 17,
     "metadata": {},
     "output_type": "execute_result"
    }
   ],
   "source": [
    "trainY.shape"
   ]
  },
  {
   "cell_type": "code",
   "execution_count": 18,
   "id": "c7dced70",
   "metadata": {},
   "outputs": [
    {
     "data": {
      "text/plain": [
       "array([[ 0.38038255],\n",
       "       [ 0.40306363],\n",
       "       [ 0.67168079],\n",
       "       [ 0.57828741],\n",
       "       [ 0.23584517],\n",
       "       [ 0.20426938],\n",
       "       [ 0.06951589],\n",
       "       [ 0.17758537],\n",
       "       [ 0.10398253],\n",
       "       [ 0.93184805],\n",
       "       [ 0.73171949],\n",
       "       [ 0.37860354],\n",
       "       [ 0.46310233],\n",
       "       [ 0.57072711],\n",
       "       [ 0.84001132],\n",
       "       [ 0.81577358],\n",
       "       [ 0.68635689],\n",
       "       [ 0.43130408],\n",
       "       [ 0.20471407],\n",
       "       [ 1.18223132],\n",
       "       [ 1.34789334],\n",
       "       [ 1.03991754],\n",
       "       [ 0.77597002],\n",
       "       [ 0.73616668],\n",
       "       [ 1.15421322],\n",
       "       [ 1.15154482],\n",
       "       [ 0.87670146],\n",
       "       [ 1.16866697],\n",
       "       [ 1.36234709],\n",
       "       [ 2.17309035],\n",
       "       [ 3.22532239],\n",
       "       [ 3.96535346],\n",
       "       [ 3.17529014],\n",
       "       [ 4.08943335],\n",
       "       [ 2.08948117],\n",
       "       [ 1.250275  ],\n",
       "       [ 1.11285333],\n",
       "       [ 1.17200241],\n",
       "       [ 0.78864498],\n",
       "       [ 0.80087503],\n",
       "       [ 0.70548039],\n",
       "       [ 1.07104874],\n",
       "       [ 0.39461394],\n",
       "       [ 0.86736216],\n",
       "       [ 1.52089341],\n",
       "       [ 1.2956375 ],\n",
       "       [ 0.94874785],\n",
       "       [ 1.35300769],\n",
       "       [ 1.22025576],\n",
       "       [ 1.36768378],\n",
       "       [ 1.47997822],\n",
       "       [ 1.38013618],\n",
       "       [ 0.86335967],\n",
       "       [ 0.71215129],\n",
       "       [ 0.74506128],\n",
       "       [ 1.19334962],\n",
       "       [ 1.43128028],\n",
       "       [ 1.18245367],\n",
       "       [ 1.55269155],\n",
       "       [ 1.87289751],\n",
       "       [ 2.29250059],\n",
       "       [ 2.574682  ],\n",
       "       [ 3.06610902],\n",
       "       [ 3.68828683],\n",
       "       [ 2.88154574],\n",
       "       [ 1.66654253],\n",
       "       [ 1.30942409],\n",
       "       [ 0.99455515],\n",
       "       [ 0.97854475],\n",
       "       [ 0.53670517],\n",
       "       [ 0.14111758],\n",
       "       [-0.02343259],\n",
       "       [-0.24846621],\n",
       "       [-0.40278763],\n",
       "       [-0.25313586],\n",
       "       [-0.26625541],\n",
       "       [-0.41257168],\n",
       "       [-0.59669   ],\n",
       "       [-0.46549463],\n",
       "       [ 0.13622558],\n",
       "       [ 0.02571005],\n",
       "       [ 0.43930918],\n",
       "       [ 0.49378862],\n",
       "       [ 0.35814594],\n",
       "       [-0.07012928],\n",
       "       [-0.19331956],\n",
       "       [-0.16085427],\n",
       "       [ 0.12644148],\n",
       "       [ 0.0361612 ],\n",
       "       [-0.11193398],\n",
       "       [-0.27648426],\n",
       "       [-0.39478243],\n",
       "       [-0.21110876],\n",
       "       [-0.10081568],\n",
       "       [-0.01253674],\n",
       "       [-0.23067696],\n",
       "       [-0.25068986],\n",
       "       [-0.11482473],\n",
       "       [-0.10837608],\n",
       "       [-0.00453154],\n",
       "       [-0.05990059],\n",
       "       [-0.25068986],\n",
       "       [-0.30049965],\n",
       "       [-0.40056393],\n",
       "       [-0.42457943],\n",
       "       [-0.6002479 ],\n",
       "       [-0.80815932],\n",
       "       [-0.88020561],\n",
       "       [-0.98427254],\n",
       "       [-1.10346027],\n",
       "       [-0.90221981],\n",
       "       [-0.89376996],\n",
       "       [-0.69364129],\n",
       "       [-0.76880068],\n",
       "       [-0.72921968],\n",
       "       [-0.46015782],\n",
       "       [-0.35831464],\n",
       "       [-0.48461802],\n",
       "       [-0.52019641],\n",
       "       [-0.53976461],\n",
       "       [-0.2962747 ],\n",
       "       [-0.15529522],\n",
       "       [-0.20977466],\n",
       "       [-0.31028375],\n",
       "       [-0.37766034],\n",
       "       [-0.48995477],\n",
       "       [-0.40078633],\n",
       "       [-0.38944574],\n",
       "       [-0.39745083],\n",
       "       [-0.09681308],\n",
       "       [-0.06034529],\n",
       "       [ 0.23362157],\n",
       "       [-0.00875649],\n",
       "       [ 0.05128199],\n",
       "       [ 0.0117011 ],\n",
       "       [ 0.04772419],\n",
       "       [-0.21311011],\n",
       "       [-0.27025795],\n",
       "       [-0.26447645],\n",
       "       [-0.30628115],\n",
       "       [-0.11460227],\n",
       "       [-0.38544314],\n",
       "       [-0.69920039],\n",
       "       [-0.77858478],\n",
       "       [-0.78814642],\n",
       "       [-0.84484956],\n",
       "       [-0.73544588],\n",
       "       [-0.76924543],\n",
       "       [-0.74989963],\n",
       "       [-0.78125318],\n",
       "       [-0.82439197],\n",
       "       [-0.9155617 ],\n",
       "       [-0.99716969],\n",
       "       [-1.09367617],\n",
       "       [-1.02985744],\n",
       "       [-1.13436902],\n",
       "       [-1.19374051],\n",
       "       [-1.11213252],\n",
       "       [-1.08011193],\n",
       "       [-0.84240351],\n",
       "       [-0.78392152],\n",
       "       [-0.78125318],\n",
       "       [-0.70164639],\n",
       "       [-0.63493685],\n",
       "       [-0.75634823],\n",
       "       [-0.42813723],\n",
       "       [-0.54376711],\n",
       "       [-0.70253589],\n",
       "       [-0.66562329],\n",
       "       [-0.58690601],\n",
       "       [-0.57000621],\n",
       "       [-0.65939704],\n",
       "       [-0.68874924],\n",
       "       [-0.70120169],\n",
       "       [-0.66895874],\n",
       "       [-0.70676084],\n",
       "       [-0.6362711 ],\n",
       "       [-0.78414393],\n",
       "       [-0.58690601],\n",
       "       [-0.82972877],\n",
       "       [-0.80348967],\n",
       "       [-0.78703468],\n",
       "       [-0.74678653],\n",
       "       [-0.69586489],\n",
       "       [-0.76613227],\n",
       "       [-0.70609368],\n",
       "       [-0.74522998],\n",
       "       [-0.57934561],\n",
       "       [-0.11415758],\n",
       "       [-0.30138915],\n",
       "       [-0.67629679],\n",
       "       [-0.81949997],\n",
       "       [-0.74923258],\n",
       "       [-0.85018636],\n",
       "       [-0.84729556],\n",
       "       [-0.96870694],\n",
       "       [-0.98271599],\n",
       "       [-1.04075328],\n",
       "       [-0.87798201],\n",
       "       [-0.97915814],\n",
       "       [-0.83417601],\n",
       "       [-0.98316074],\n",
       "       [-1.07966723],\n",
       "       [-1.18328936],\n",
       "       [-1.23910303],\n",
       "       [-1.2237598 ],\n",
       "       [-1.19929966],\n",
       "       [-1.23843593],\n",
       "       [-1.21241918],\n",
       "       [-0.95736635],\n",
       "       [-0.97604504],\n",
       "       [-0.74700888],\n",
       "       [-0.72032508],\n",
       "       [-0.85463361]])"
      ]
     },
     "execution_count": 18,
     "metadata": {},
     "output_type": "execute_result"
    }
   ],
   "source": [
    "trainY"
   ]
  },
  {
   "cell_type": "code",
   "execution_count": 19,
   "id": "04e2350d",
   "metadata": {},
   "outputs": [
    {
     "name": "stderr",
     "output_type": "stream",
     "text": [
      "2022-03-07 09:25:46.291476: W tensorflow/stream_executor/platform/default/dso_loader.cc:64] Could not load dynamic library 'libcuda.so.1'; dlerror: libcuda.so.1: cannot open shared object file: No such file or directory\n",
      "2022-03-07 09:25:46.291574: W tensorflow/stream_executor/cuda/cuda_driver.cc:269] failed call to cuInit: UNKNOWN ERROR (303)\n",
      "2022-03-07 09:25:46.291644: I tensorflow/stream_executor/cuda/cuda_diagnostics.cc:156] kernel driver does not appear to be running on this host (tolnut): /proc/driver/nvidia/version does not exist\n",
      "2022-03-07 09:25:46.301576: I tensorflow/core/platform/cpu_feature_guard.cc:151] This TensorFlow binary is optimized with oneAPI Deep Neural Network Library (oneDNN) to use the following CPU instructions in performance-critical operations:  AVX2 FMA\n",
      "To enable them in other operations, rebuild TensorFlow with the appropriate compiler flags.\n"
     ]
    }
   ],
   "source": [
    "model = Sequential()\n",
    "model.add(LSTM(64, activation='relu', input_shape=(trainX.shape[1], trainX.shape[2]), return_sequences=True))\n",
    "model.add(LSTM(32, activation='relu', return_sequences=False))\n",
    "model.add(Dropout(0.2))\n",
    "model.add(Dense(trainY.shape[1]))"
   ]
  },
  {
   "cell_type": "code",
   "execution_count": 20,
   "id": "ef2ad729",
   "metadata": {},
   "outputs": [
    {
     "name": "stdout",
     "output_type": "stream",
     "text": [
      "Model: \"sequential\"\n",
      "_________________________________________________________________\n",
      " Layer (type)                Output Shape              Param #   \n",
      "=================================================================\n",
      " lstm (LSTM)                 (None, 24, 64)            17920     \n",
      "                                                                 \n",
      " lstm_1 (LSTM)               (None, 32)                12416     \n",
      "                                                                 \n",
      " dropout (Dropout)           (None, 32)                0         \n",
      "                                                                 \n",
      " dense (Dense)               (None, 1)                 33        \n",
      "                                                                 \n",
      "=================================================================\n",
      "Total params: 30,369\n",
      "Trainable params: 30,369\n",
      "Non-trainable params: 0\n",
      "_________________________________________________________________\n"
     ]
    }
   ],
   "source": [
    "model.compile(optimizer='adam', loss='mse')\n",
    "model.summary()"
   ]
  },
  {
   "cell_type": "code",
   "execution_count": 21,
   "id": "8287f471",
   "metadata": {},
   "outputs": [
    {
     "name": "stdout",
     "output_type": "stream",
     "text": [
      "Epoch 1/15\n",
      "12/12 [==============================] - 4s 104ms/step - loss: 0.9333 - val_loss: 0.2276\n",
      "Epoch 2/15\n",
      "12/12 [==============================] - 0s 21ms/step - loss: 0.5498 - val_loss: 0.8400\n",
      "Epoch 3/15\n",
      "12/12 [==============================] - 0s 30ms/step - loss: 0.4481 - val_loss: 0.0547\n",
      "Epoch 4/15\n",
      "12/12 [==============================] - 0s 22ms/step - loss: 0.3691 - val_loss: 0.0785\n",
      "Epoch 5/15\n",
      "12/12 [==============================] - 0s 22ms/step - loss: 0.3889 - val_loss: 0.0569\n",
      "Epoch 6/15\n",
      "12/12 [==============================] - 0s 23ms/step - loss: 0.3704 - val_loss: 0.0797\n",
      "Epoch 7/15\n",
      "12/12 [==============================] - 0s 25ms/step - loss: 0.3279 - val_loss: 0.0742\n",
      "Epoch 8/15\n",
      "12/12 [==============================] - 0s 29ms/step - loss: 0.3488 - val_loss: 0.0551\n",
      "Epoch 9/15\n",
      "12/12 [==============================] - 0s 23ms/step - loss: 0.3394 - val_loss: 0.1014\n",
      "Epoch 10/15\n",
      "12/12 [==============================] - 0s 30ms/step - loss: 0.2887 - val_loss: 0.0703\n",
      "Epoch 11/15\n",
      "12/12 [==============================] - 0s 23ms/step - loss: 0.2719 - val_loss: 0.0769\n",
      "Epoch 12/15\n",
      "12/12 [==============================] - 0s 24ms/step - loss: 0.2499 - val_loss: 0.1043\n",
      "Epoch 13/15\n",
      "12/12 [==============================] - 0s 27ms/step - loss: 0.2251 - val_loss: 0.0637\n",
      "Epoch 14/15\n",
      "12/12 [==============================] - 0s 28ms/step - loss: 0.2253 - val_loss: 0.1285\n",
      "Epoch 15/15\n",
      "12/12 [==============================] - 0s 24ms/step - loss: 0.2325 - val_loss: 0.0542\n"
     ]
    }
   ],
   "source": [
    "history = model.fit(trainX, trainY, epochs=15, batch_size=16, validation_split=0.1, verbose=1)"
   ]
  },
  {
   "cell_type": "code",
   "execution_count": 22,
   "id": "ddf57b0f",
   "metadata": {},
   "outputs": [
    {
     "data": {
      "text/plain": [
       "<matplotlib.legend.Legend at 0x7fcb785b5990>"
      ]
     },
     "execution_count": 22,
     "metadata": {},
     "output_type": "execute_result"
    },
    {
     "data": {
      "image/png": "[encoded data removed]",
      "text/plain": [
       "<Figure size 432x288 with 1 Axes>"
      ]
     },
     "metadata": {
      "needs_background": "light"
     },
     "output_type": "display_data"
    }
   ],
   "source": [
    "plt.plot(history.history['loss'], label='Training loss')\n",
    "plt.plot(history.history['val_loss'], label='Validation loss')\n",
    "plt.legend()"
   ]
  },
  {
   "cell_type": "code",
   "execution_count": 23,
   "id": "8d7dd586",
   "metadata": {},
   "outputs": [],
   "source": [
    "n_past = 12\n",
    "n_days_for_prediction=24  #2 yrs"
   ]
  },
  {
   "cell_type": "code",
   "execution_count": 24,
   "id": "c41a896c",
   "metadata": {},
   "outputs": [],
   "source": [
    "predict_period_dates = pd.date_range(list(train_dates)[-n_past], periods=n_days_for_prediction).tolist()"
   ]
  },
  {
   "cell_type": "code",
   "execution_count": 25,
   "id": "c8fbf966",
   "metadata": {},
   "outputs": [
    {
     "data": {
      "text/plain": [
       "[Timestamp('2020-01-01 00:00:00', freq='D'),\n",
       " Timestamp('2020-01-02 00:00:00', freq='D'),\n",
       " Timestamp('2020-01-03 00:00:00', freq='D'),\n",
       " Timestamp('2020-01-04 00:00:00', freq='D'),\n",
       " Timestamp('2020-01-05 00:00:00', freq='D'),\n",
       " Timestamp('2020-01-06 00:00:00', freq='D'),\n",
       " Timestamp('2020-01-07 00:00:00', freq='D'),\n",
       " Timestamp('2020-01-08 00:00:00', freq='D'),\n",
       " Timestamp('2020-01-09 00:00:00', freq='D'),\n",
       " Timestamp('2020-01-10 00:00:00', freq='D'),\n",
       " Timestamp('2020-01-11 00:00:00', freq='D'),\n",
       " Timestamp('2020-01-12 00:00:00', freq='D'),\n",
       " Timestamp('2020-01-13 00:00:00', freq='D'),\n",
       " Timestamp('2020-01-14 00:00:00', freq='D'),\n",
       " Timestamp('2020-01-15 00:00:00', freq='D'),\n",
       " Timestamp('2020-01-16 00:00:00', freq='D'),\n",
       " Timestamp('2020-01-17 00:00:00', freq='D'),\n",
       " Timestamp('2020-01-18 00:00:00', freq='D'),\n",
       " Timestamp('2020-01-19 00:00:00', freq='D'),\n",
       " Timestamp('2020-01-20 00:00:00', freq='D'),\n",
       " Timestamp('2020-01-21 00:00:00', freq='D'),\n",
       " Timestamp('2020-01-22 00:00:00', freq='D'),\n",
       " Timestamp('2020-01-23 00:00:00', freq='D'),\n",
       " Timestamp('2020-01-24 00:00:00', freq='D')]"
      ]
     },
     "execution_count": 25,
     "metadata": {},
     "output_type": "execute_result"
    }
   ],
   "source": [
    "predict_period_dates"
   ]
  },
  {
   "cell_type": "code",
   "execution_count": 26,
   "id": "a4bcb94e",
   "metadata": {},
   "outputs": [],
   "source": [
    "prediction = model.predict(trainX[-n_days_for_prediction:])"
   ]
  },
  {
   "cell_type": "code",
   "execution_count": 27,
   "id": "7b2e7ae4",
   "metadata": {},
   "outputs": [
    {
     "data": {
      "text/plain": [
       "array([[-0.6039945 ],\n",
       "       [-0.62242424],\n",
       "       [-0.6400904 ],\n",
       "       [-0.6615176 ],\n",
       "       [-0.681814  ],\n",
       "       [-0.7049603 ],\n",
       "       [-0.73603976],\n",
       "       [-0.7809016 ],\n",
       "       [-0.8434185 ],\n",
       "       [-0.9082315 ],\n",
       "       [-0.97591305],\n",
       "       [-1.0413824 ],\n",
       "       [-1.1086864 ],\n",
       "       [-1.1495934 ],\n",
       "       [-1.1557196 ],\n",
       "       [-1.1306918 ],\n",
       "       [-1.1047592 ],\n",
       "       [-1.1061697 ],\n",
       "       [-1.1372578 ],\n",
       "       [-1.1804363 ],\n",
       "       [-1.2229507 ],\n",
       "       [-1.2522671 ],\n",
       "       [-1.2649965 ],\n",
       "       [-1.2758905 ]], dtype=float32)"
      ]
     },
     "execution_count": 27,
     "metadata": {},
     "output_type": "execute_result"
    }
   ],
   "source": [
    "prediction"
   ]
  },
  {
   "cell_type": "code",
   "execution_count": 28,
   "id": "206cdd21",
   "metadata": {},
   "outputs": [],
   "source": [
    "prediction_copies = np.repeat(prediction, df_for_training.shape[1], axis=-1)\n",
    "y_pred_future = scaler.inverse_transform(prediction_copies)[:,0]"
   ]
  },
  {
   "cell_type": "code",
   "execution_count": 29,
   "id": "1e3c51db",
   "metadata": {},
   "outputs": [
    {
     "data": {
      "text/plain": [
       "array([3.1465757, 3.1051354, 3.065412 , 3.0172317, 2.9715943, 2.9195485,\n",
       "       2.8496647, 2.7487905, 2.608218 , 2.4624825, 2.3102968, 2.1630855,\n",
       "       2.0117488, 1.9197673, 1.9059919, 1.9622685, 2.0205793, 2.017408 ,\n",
       "       1.9475044, 1.8504153, 1.7548193, 1.6888999, 1.660277 , 1.6357814],\n",
       "      dtype=float32)"
      ]
     },
     "execution_count": 29,
     "metadata": {},
     "output_type": "execute_result"
    }
   ],
   "source": [
    "y_pred_future"
   ]
  },
  {
   "cell_type": "code",
   "execution_count": 30,
   "id": "80180fbd",
   "metadata": {},
   "outputs": [],
   "source": [
    "# forecast_dates = []\n",
    "# for time_i in predict_period_dates:\n",
    "#     forecast_dates.append(time_i.date())"
   ]
  },
  {
   "cell_type": "code",
   "execution_count": 31,
   "id": "b043acca",
   "metadata": {},
   "outputs": [],
   "source": [
    "# df_forecast = pd.DataFrame({'Date':np.array(forecast_dates), 'NaturalGas':y_pred_future})\n",
    "# df_forecast['Date']=pd.to_datetime(df_forecast['Date'])"
   ]
  },
  {
   "cell_type": "code",
   "execution_count": 32,
   "id": "bc8f8bc4",
   "metadata": {},
   "outputs": [],
   "source": [
    "# df_forecast"
   ]
  },
  {
   "cell_type": "code",
   "execution_count": 33,
   "id": "80be5a3c",
   "metadata": {},
   "outputs": [],
   "source": [
    "#original = df[['Date', 'NaturalGas']]\n",
    "#original['Date']=pd.to_datetime(original['Date'])\n",
    "#original = original.loc[original['Date'] >= '2020-01-01']"
   ]
  },
  {
   "cell_type": "code",
   "execution_count": 34,
   "id": "dc3109f3",
   "metadata": {},
   "outputs": [],
   "source": [
    "#sns.lineplot(original['Date'], original['NaturalGas'])\n",
    "#sns.lineplot(df_forecast['Date'], df_forecast['NaturalGas'])"
   ]
  },
  {
   "cell_type": "code",
   "execution_count": null,
   "id": "763b7b32",
   "metadata": {},
   "outputs": [],
   "source": []
  },
  {
   "cell_type": "code",
   "execution_count": null,
   "id": "5c5abaab",
   "metadata": {},
   "outputs": [],
   "source": []
  }
 ],
 "metadata": {
  "kernelspec": {
   "display_name": "Python 3 (ipykernel)",
   "language": "python",
   "name": "python3"
  },
  "language_info": {
   "codemirror_mode": {
    "name": "ipython",
    "version": 3
   },
   "file_extension": ".py",
   "mimetype": "text/x-python",
   "name": "python",
   "nbconvert_exporter": "python",
   "pygments_lexer": "ipython3",
   "version": "3.10.1"
  }
 },
 "nbformat": 4,
 "nbformat_minor": 5
}
